{
 "cells": [
  {
   "cell_type": "code",
   "execution_count": null,
   "id": "b97a7e13-a496-46c3-8fce-1a62df1dec18",
   "metadata": {},
   "outputs": [],
   "source": [
    "#slip22\n",
    "Dataset Name: winequality-red.csv\n",
    "Write a program in python to perform following tasks\n",
    "a. Rescaling: Normalised the dataset using MinMaxScaler class\n",
    "b. Standardizing Data (transform them into a standard Gaussian distribution with a mean of 0 and\n",
    "a standard deviation of 1)\n",
    "c. Normalizing Data ( rescale each observation to a length of 1 (a unit norm). For this, use the\n",
    "Normalizer class.) "
   ]
  },
  {
   "cell_type": "code",
   "execution_count": 4,
   "id": "e4a27df3-2319-4e3f-8ae9-ea5bcd565d0c",
   "metadata": {},
   "outputs": [
    {
     "name": "stdout",
     "output_type": "stream",
     "text": [
      "Rescaled Data:\n",
      "[[0.24778761 0.39726027 0.         ... 0.13772455 0.15384615 0.4       ]\n",
      " [0.28318584 0.52054795 0.         ... 0.20958084 0.21538462 0.4       ]\n",
      " [0.28318584 0.43835616 0.04       ... 0.19161677 0.21538462 0.4       ]\n",
      " ...\n",
      " [0.15044248 0.26712329 0.13       ... 0.25149701 0.4        0.6       ]\n",
      " [0.11504425 0.35958904 0.12       ... 0.22754491 0.27692308 0.4       ]\n",
      " [0.12389381 0.13013699 0.47       ... 0.19760479 0.4        0.6       ]]\n"
     ]
    }
   ],
   "source": [
    "#slip22_q1\n",
    "#Rescaling: Normalised the dataset using MinMaxScaler class \n",
    "import pandas as pd\n",
    "from sklearn.preprocessing import MinMaxScaler, StandardScaler, Normalizer\n",
    "data=pd.read_csv('../Datasets/winequality-red.csv')\n",
    "scaler = MinMaxScaler()\n",
    "rescaled_data = scaler.fit_transform(data)\n",
    "print(\"Rescaled Data:\")\n",
    "print(rescaled_data)"
   ]
  },
  {
   "cell_type": "code",
   "execution_count": 6,
   "id": "f43e2a31-a1bf-481a-ab93-24c0e57ff2a8",
   "metadata": {},
   "outputs": [
    {
     "name": "stdout",
     "output_type": "stream",
     "text": [
      "\n",
      "Standardized Data:\n",
      "[[-0.52835961  0.96187667 -1.39147228 ... -0.57920652 -0.96024611\n",
      "  -0.78782264]\n",
      " [-0.29854743  1.96744245 -1.39147228 ...  0.1289504  -0.58477711\n",
      "  -0.78782264]\n",
      " [-0.29854743  1.29706527 -1.18607043 ... -0.04808883 -0.58477711\n",
      "  -0.78782264]\n",
      " ...\n",
      " [-1.1603431  -0.09955388 -0.72391627 ...  0.54204194  0.54162988\n",
      "   0.45084835]\n",
      " [-1.39015528  0.65462046 -0.77526673 ...  0.30598963 -0.20930812\n",
      "  -0.78782264]\n",
      " [-1.33270223 -1.21684919  1.02199944 ...  0.01092425  0.54162988\n",
      "   0.45084835]]\n"
     ]
    }
   ],
   "source": [
    "#slip22_q2\n",
    "#Standardizing Data (transform them into a standard Gaussian distribution with a mean of 0 anda standard deviation of 1)\n",
    "standardizer = StandardScaler()\n",
    "standardized_data = standardizer.fit_transform(data)\n",
    "print(\"\\nStandardized Data:\")\n",
    "print(standardized_data)"
   ]
  },
  {
   "cell_type": "code",
   "execution_count": 7,
   "id": "7f376d16-706a-4bb3-82b2-459508bb16e6",
   "metadata": {},
   "outputs": [
    {
     "name": "stdout",
     "output_type": "stream",
     "text": [
      "\n",
      "Normalized Data:\n",
      "[[0.19347777 0.01830195 0.         ... 0.01464156 0.24576906 0.13072822]\n",
      " [0.10698874 0.01207052 0.         ... 0.00932722 0.13442175 0.06858252]\n",
      " [0.13494887 0.01314886 0.00069205 ... 0.01124574 0.16955114 0.08650569]\n",
      " ...\n",
      " [0.1222319  0.00989496 0.00252225 ... 0.01455142 0.21342078 0.11641133]\n",
      " [0.10524769 0.01150589 0.00214063 ... 0.0126654  0.18195363 0.08919296]\n",
      " [0.12491328 0.00645385 0.00978487 ... 0.01374046 0.22900768 0.12491328]]\n"
     ]
    }
   ],
   "source": [
    "#slip22_q3\n",
    "#Normalizing Data ( rescale each observation to a length of 1 (a unit norm). For this, use the Normalizer class.) \n",
    "normalizer = Normalizer()\n",
    "normalized_data = normalizer.fit_transform(data)\n",
    "print(\"\\nNormalized Data:\")\n",
    "print(normalized_data)"
   ]
  },
  {
   "cell_type": "code",
   "execution_count": null,
   "id": "b574ed8f-c0ff-4d2a-8279-dc565df3021c",
   "metadata": {},
   "outputs": [],
   "source": []
  }
 ],
 "metadata": {
  "kernelspec": {
   "display_name": "Python 3 (ipykernel)",
   "language": "python",
   "name": "python3"
  },
  "language_info": {
   "codemirror_mode": {
    "name": "ipython",
    "version": 3
   },
   "file_extension": ".py",
   "mimetype": "text/x-python",
   "name": "python",
   "nbconvert_exporter": "python",
   "pygments_lexer": "ipython3",
   "version": "3.12.0"
  }
 },
 "nbformat": 4,
 "nbformat_minor": 5
}
