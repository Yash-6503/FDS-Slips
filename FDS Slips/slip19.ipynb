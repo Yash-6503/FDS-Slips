{
 "cells": [
  {
   "cell_type": "code",
   "execution_count": 1,
   "id": "75dd7fe4-6af6-4ebd-b7f9-6e84fea1fa30",
   "metadata": {},
   "outputs": [
    {
     "name": "stdout",
     "output_type": "stream",
     "text": [
      "      name  age  percentage\n",
      "0     John   25          50\n",
      "1    Alice   32          60\n",
      "2  Michael   28          70\n",
      "3     Emma   35          55\n",
      "4   Daniel   41          65\n",
      "5   Olivia   29          75\n",
      "6    David   36          80\n",
      "7   Sophia   27         550\n",
      "8    James   33          60\n",
      "9    Emily   30          70\n"
     ]
    }
   ],
   "source": [
    "#slip19_q1\n",
    "# To create a dataframe containing columns name, age and percentage. Add 10 rows to the dataframe. View the dataframe. \n",
    "import pandas as pd\n",
    "# Create a dictionary with column values\n",
    "data = {\n",
    "    'name': ['John', 'Alice', 'Michael', 'Emma', 'Daniel', 'Olivia', 'David', 'Sophia', 'James', 'Emily'],\n",
    "    'age': [25, 32, 28, 35, 41, 29, 36, 27, 33, 30],\n",
    "    'percentage': [50, 60, 70, 55, 65, 75, 80, 550, 60, 70],\n",
    "}\n",
    "\n",
    "# Create a dataframe from the dictionary\n",
    "df = pd.DataFrame(data)\n",
    "\n",
    "# View the dataframe\n",
    "print(df)"
   ]
  },
  {
   "cell_type": "code",
   "execution_count": 11,
   "id": "5404fb7d-4ce0-42f5-a233-8ca1c055fb00",
   "metadata": {},
   "outputs": [
    {
     "data": {
      "text/html": [
       "<div>\n",
       "<style scoped>\n",
       "    .dataframe tbody tr th:only-of-type {\n",
       "        vertical-align: middle;\n",
       "    }\n",
       "\n",
       "    .dataframe tbody tr th {\n",
       "        vertical-align: top;\n",
       "    }\n",
       "\n",
       "    .dataframe thead th {\n",
       "        text-align: right;\n",
       "    }\n",
       "</style>\n",
       "<table border=\"1\" class=\"dataframe\">\n",
       "  <thead>\n",
       "    <tr style=\"text-align: right;\">\n",
       "      <th></th>\n",
       "      <th>age</th>\n",
       "      <th>percentage</th>\n",
       "    </tr>\n",
       "  </thead>\n",
       "  <tbody>\n",
       "    <tr>\n",
       "      <th>count</th>\n",
       "      <td>10.000000</td>\n",
       "      <td>10.0000</td>\n",
       "    </tr>\n",
       "    <tr>\n",
       "      <th>mean</th>\n",
       "      <td>31.600000</td>\n",
       "      <td>113.5000</td>\n",
       "    </tr>\n",
       "    <tr>\n",
       "      <th>std</th>\n",
       "      <td>4.812022</td>\n",
       "      <td>153.6419</td>\n",
       "    </tr>\n",
       "    <tr>\n",
       "      <th>min</th>\n",
       "      <td>25.000000</td>\n",
       "      <td>50.0000</td>\n",
       "    </tr>\n",
       "    <tr>\n",
       "      <th>25%</th>\n",
       "      <td>28.250000</td>\n",
       "      <td>60.0000</td>\n",
       "    </tr>\n",
       "    <tr>\n",
       "      <th>50%</th>\n",
       "      <td>31.000000</td>\n",
       "      <td>67.5000</td>\n",
       "    </tr>\n",
       "    <tr>\n",
       "      <th>75%</th>\n",
       "      <td>34.500000</td>\n",
       "      <td>73.7500</td>\n",
       "    </tr>\n",
       "    <tr>\n",
       "      <th>max</th>\n",
       "      <td>41.000000</td>\n",
       "      <td>550.0000</td>\n",
       "    </tr>\n",
       "  </tbody>\n",
       "</table>\n",
       "</div>"
      ],
      "text/plain": [
       "             age  percentage\n",
       "count  10.000000     10.0000\n",
       "mean   31.600000    113.5000\n",
       "std     4.812022    153.6419\n",
       "min    25.000000     50.0000\n",
       "25%    28.250000     60.0000\n",
       "50%    31.000000     67.5000\n",
       "75%    34.500000     73.7500\n",
       "max    41.000000    550.0000"
      ]
     },
     "execution_count": 11,
     "metadata": {},
     "output_type": "execute_result"
    }
   ],
   "source": [
    "#slip19_q2\n",
    "#To print the shape, number of rows-columns, data types, feature names and the description of the data \n",
    "df.shape\n",
    "df.dtypes\n",
    "df.columns\n",
    "df.describe()"
   ]
  },
  {
   "cell_type": "code",
   "execution_count": 13,
   "id": "f1476013-3709-461c-a05e-e8558c9c7fce",
   "metadata": {},
   "outputs": [
    {
     "name": "stdout",
     "output_type": "stream",
     "text": [
      "     Name   Age      City Remarks\n",
      "0    John  25.0  New York        \n",
      "1    Emma  28.0    London        \n",
      "2    John  25.0  New York        \n",
      "3   Emily   NaN     Paris        \n",
      "4  Daniel  30.0     Tokyo        \n",
      "5    None  32.0    Berlin        \n",
      "6    Emma  28.0    London        \n",
      "7    None  35.0    Sydney        \n",
      "8  Daniel   NaN     Tokyo        \n"
     ]
    }
   ],
   "source": [
    "#slip19_q3\n",
    "#To Add 5 rows with duplicate values and missing values. Add a column ‘remarks’ with empty values. Display the data.\n",
    "import pandas as pd\n",
    "\n",
    "# Create a DataFrame with duplicate values and missing values\n",
    "data = {'Name': ['John', 'Emma', 'John', 'Emily', 'Daniel', None, 'Emma', None, 'Daniel'],\n",
    "        'Age': [25, 28, 25, None, 30, 32, 28, 35, None],\n",
    "        'City': ['New York', 'London', 'New York', 'Paris', 'Tokyo', 'Berlin', 'London', 'Sydney', 'Tokyo'],\n",
    "        'Remarks': [''] * 9}\n",
    "\n",
    "df = pd.DataFrame(data)\n",
    "\n",
    "# Display the data\n",
    "print(df)"
   ]
  },
  {
   "cell_type": "code",
   "execution_count": null,
   "id": "6b430ea2-ae59-44ee-93d9-bb8b0326222e",
   "metadata": {},
   "outputs": [],
   "source": []
  }
 ],
 "metadata": {
  "kernelspec": {
   "display_name": "Python 3 (ipykernel)",
   "language": "python",
   "name": "python3"
  },
  "language_info": {
   "codemirror_mode": {
    "name": "ipython",
    "version": 3
   },
   "file_extension": ".py",
   "mimetype": "text/x-python",
   "name": "python",
   "nbconvert_exporter": "python",
   "pygments_lexer": "ipython3",
   "version": "3.12.0"
  }
 },
 "nbformat": 4,
 "nbformat_minor": 5
}
