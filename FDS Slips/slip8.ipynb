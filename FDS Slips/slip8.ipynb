{
 "cells": [
  {
   "cell_type": "code",
   "execution_count": 4,
   "id": "f195e886-20d3-42a0-9f30-fd7527c53380",
   "metadata": {},
   "outputs": [
    {
     "name": "stdout",
     "output_type": "stream",
     "text": [
      "      fixed acidity  volatile acidity  citric acid  residual sugar  chlorides  \\\n",
      "0         -0.528194          0.961576    -1.391037       -0.453077  -0.243630   \n",
      "1         -0.298454          1.966827    -1.391037        0.043403   0.223805   \n",
      "2         -0.298454          1.296660    -1.185699       -0.169374   0.096323   \n",
      "3          1.654339         -1.384011     1.483689       -0.453077  -0.264878   \n",
      "4         -0.528194          0.961576    -1.391037       -0.453077  -0.243630   \n",
      "...             ...               ...          ...             ...        ...   \n",
      "1594      -1.217415          0.403103    -0.980362       -0.382151   0.053829   \n",
      "1595      -1.389721          0.123866    -0.877693       -0.240300  -0.541090   \n",
      "1596      -1.159980         -0.099523    -0.723690       -0.169374  -0.243630   \n",
      "1597      -1.389721          0.654416    -0.775024       -0.382151  -0.264878   \n",
      "1598      -1.332285         -1.216469     1.021680        0.752659  -0.434854   \n",
      "\n",
      "      free sulfur dioxide  total sulfur dioxide   density        pH  \\\n",
      "0               -0.466047             -0.379014  0.558100  1.288240   \n",
      "1                0.872365              0.624168  0.028252 -0.719708   \n",
      "2               -0.083643              0.228975  0.134222 -0.331073   \n",
      "3                0.107558              0.411372  0.664069 -0.978798   \n",
      "4               -0.466047             -0.379014  0.558100  1.288240   \n",
      "...                   ...                   ...       ...       ...   \n",
      "1594             1.541571             -0.075020 -0.978459  0.899605   \n",
      "1595             2.210777              0.137777 -0.861893  1.353012   \n",
      "1596             1.254769             -0.196617 -0.533387  0.705287   \n",
      "1597             1.541571             -0.075020 -0.676446  1.676875   \n",
      "1598             0.203159             -0.135818 -0.665849  0.510970   \n",
      "\n",
      "      sulphates   alcohol  quality  \n",
      "0     -0.579025 -0.959946        5  \n",
      "1      0.128910 -0.584594        5  \n",
      "2     -0.048074 -0.584594        5  \n",
      "3     -0.461036 -0.584594        6  \n",
      "4     -0.579025 -0.959946        5  \n",
      "...         ...       ...      ...  \n",
      "1594  -0.461036  0.072271        5  \n",
      "1595   0.600867  0.729136        6  \n",
      "1596   0.541872  0.541460        6  \n",
      "1597   0.305894 -0.209243        5  \n",
      "1598   0.010921  0.541460        6  \n",
      "\n",
      "[1599 rows x 12 columns]\n"
     ]
    }
   ],
   "source": [
    "#slip7\n",
    "# Write a program in python to perform following task : Standardizing Data (transform them into a standard Gaussian distribution with a mean of 0 and a standard deviation of 1) (Use winequality-red.csv)\n",
    "\n",
    "import pandas as pd\n",
    "import numpy as np\n",
    "\n",
    "# Load the data into a DataFrame\n",
    "data_df = pd.read_csv('../Datasets/winequality-red.csv')\n",
    "\n",
    "# Select the columns you want to standardize\n",
    "columns_to_standardize = ['fixed acidity', 'volatile acidity', 'citric acid', 'residual sugar', 'chlorides', 'free sulfur dioxide', 'total sulfur dioxide', 'density', 'pH', 'sulphates', 'alcohol']\n",
    "\n",
    "# Standardize the selected columns using numpy\n",
    "data_df[columns_to_standardize] = (data_df[columns_to_standardize] - data_df[columns_to_standardize].mean()) / data_df[columns_to_standardize].std()\n",
    "\n",
    "# Print the updated DataFrame\n",
    "print(data_df)"
   ]
  }
 ],
 "metadata": {
  "kernelspec": {
   "display_name": "Python 3 (ipykernel)",
   "language": "python",
   "name": "python3"
  },
  "language_info": {
   "codemirror_mode": {
    "name": "ipython",
    "version": 3
   },
   "file_extension": ".py",
   "mimetype": "text/x-python",
   "name": "python",
   "nbconvert_exporter": "python",
   "pygments_lexer": "ipython3",
   "version": "3.12.0"
  }
 },
 "nbformat": 4,
 "nbformat_minor": 5
}
