{
 "cells": [
  {
   "cell_type": "code",
   "execution_count": null,
   "id": "1d05492b-e3b0-492f-a7ba-7157dc7db24e",
   "metadata": {},
   "outputs": [],
   "source": [
    "#slip27\n",
    "Create a dataset data.csv having two categorical column (the country column, and the\n",
    "purchased column). \n",
    "a. Apply OneHot coding on Country column.\n",
    "b. Apply Label encoding on purchased column "
   ]
  },
  {
   "cell_type": "code",
   "execution_count": 13,
   "id": "d09bc3bf-ec4e-40d7-92c7-7a47b3568264",
   "metadata": {},
   "outputs": [
    {
     "name": "stdout",
     "output_type": "stream",
     "text": [
      "     name    salary   age  purchased  country_bhutan  country_india  \\\n",
      "0    yash  100000.0  21.0          1           False           True   \n",
      "1  harsh    50000.0  22.0          0           False           True   \n",
      "2   vinay   40000.0   NaN          1           False          False   \n",
      "3   sunil   45000.0  43.0          1           False          False   \n",
      "4  manish   30000.0  26.0          0           False          False   \n",
      "5     raj   15000.0  32.0          0           False           True   \n",
      "6   vivek       NaN  31.0          1            True          False   \n",
      "7  tanmay   65000.0  30.0          0           False          False   \n",
      "8   vijay   70000.0  25.0          1           False           True   \n",
      "\n",
      "   country_nepal  \n",
      "0          False  \n",
      "1          False  \n",
      "2           True  \n",
      "3          False  \n",
      "4          False  \n",
      "5          False  \n",
      "6          False  \n",
      "7           True  \n",
      "8          False  \n"
     ]
    }
   ],
   "source": [
    "import pandas as p\n",
    "from sklearn import preprocessing\n",
    "d = pd.read_csv('../Datasets/Data.csv')\n",
    "label_encoder = preprocessing.LabelEncoder()\n",
    "d['purchased']= label_encoder.fit_transform(d['purchased'])\n",
    "one_hot_encoded_data = p.get_dummies(d, columns = ['country'])\n",
    "print(one_hot_encoded_data)\n"
   ]
  },
  {
   "cell_type": "code",
   "execution_count": null,
   "id": "ec2b8385-4374-4b0d-8884-9d3d577503e7",
   "metadata": {},
   "outputs": [],
   "source": []
  }
 ],
 "metadata": {
  "kernelspec": {
   "display_name": "Python 3 (ipykernel)",
   "language": "python",
   "name": "python3"
  },
  "language_info": {
   "codemirror_mode": {
    "name": "ipython",
    "version": 3
   },
   "file_extension": ".py",
   "mimetype": "text/x-python",
   "name": "python",
   "nbconvert_exporter": "python",
   "pygments_lexer": "ipython3",
   "version": "3.12.0"
  }
 },
 "nbformat": 4,
 "nbformat_minor": 5
}
