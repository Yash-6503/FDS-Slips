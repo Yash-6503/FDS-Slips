{
 "cells": [
  {
   "cell_type": "code",
   "execution_count": null,
   "id": "3f962012-dd59-4c53-b836-67a1530f3c9c",
   "metadata": {},
   "outputs": [],
   "source": [
    "#slip23\n",
    "Dataset Name: winequality-red.csv\n",
    "Write a program in python to perform following task\n",
    "a. Rescaling: Normalised the dataset using MinMaxScaler class\n",
    "b. Standardizing Data (transform them into a standard Gaussian distribution with a mean of\n",
    "0 and a standard deviation of 1)\n",
    "c. Binarizing Data using we use the Binarizer class (Using a binary threshold, it is possible\n",
    "to transform our data by marking the values above it 1 and those equal to or below it, 0)\n"
   ]
  },
  {
   "cell_type": "code",
   "execution_count": 2,
   "id": "3c233bf0-3484-4c41-94f8-fcdb70322399",
   "metadata": {},
   "outputs": [
    {
     "name": "stdout",
     "output_type": "stream",
     "text": [
      "Rescaled Data:\n",
      "[[0.24778761 0.39726027 0.         ... 0.13772455 0.15384615 0.4       ]\n",
      " [0.28318584 0.52054795 0.         ... 0.20958084 0.21538462 0.4       ]\n",
      " [0.28318584 0.43835616 0.04       ... 0.19161677 0.21538462 0.4       ]\n",
      " ...\n",
      " [0.15044248 0.26712329 0.13       ... 0.25149701 0.4        0.6       ]\n",
      " [0.11504425 0.35958904 0.12       ... 0.22754491 0.27692308 0.4       ]\n",
      " [0.12389381 0.13013699 0.47       ... 0.19760479 0.4        0.6       ]]\n",
      "\n",
      "Standardized Data:\n",
      "[[-0.52835961  0.96187667 -1.39147228 ... -0.57920652 -0.96024611\n",
      "  -0.78782264]\n",
      " [-0.29854743  1.96744245 -1.39147228 ...  0.1289504  -0.58477711\n",
      "  -0.78782264]\n",
      " [-0.29854743  1.29706527 -1.18607043 ... -0.04808883 -0.58477711\n",
      "  -0.78782264]\n",
      " ...\n",
      " [-1.1603431  -0.09955388 -0.72391627 ...  0.54204194  0.54162988\n",
      "   0.45084835]\n",
      " [-1.39015528  0.65462046 -0.77526673 ...  0.30598963 -0.20930812\n",
      "  -0.78782264]\n",
      " [-1.33270223 -1.21684919  1.02199944 ...  0.01092425  0.54162988\n",
      "   0.45084835]]\n",
      "\n",
      "Binarized Data:\n",
      "[[1. 1. 0. ... 1. 1. 1.]\n",
      " [1. 1. 0. ... 1. 1. 1.]\n",
      " [1. 1. 0. ... 1. 1. 1.]\n",
      " ...\n",
      " [1. 1. 0. ... 1. 1. 1.]\n",
      " [1. 1. 0. ... 1. 1. 1.]\n",
      " [1. 0. 0. ... 1. 1. 1.]]\n"
     ]
    }
   ],
   "source": [
    "import pandas as pd\n",
    "from sklearn.preprocessing import MinMaxScaler, StandardScaler, Binarizer\n",
    "\n",
    "# Load the dataset\n",
    "dataset = pd.read_csv(\"../Datasets/winequality-red.csv\")\n",
    "\n",
    "# Rescaling: Normalizing the dataset using MinMaxScaler\n",
    "scaler = MinMaxScaler()\n",
    "rescaled_data = scaler.fit_transform(dataset)\n",
    "\n",
    "# Standardizing Data: Transforming the dataset into a standard Gaussian distribution\n",
    "standardizer = StandardScaler()\n",
    "standardized_data = standardizer.fit_transform(dataset)\n",
    "\n",
    "# Binarizing Data: Transforming the dataset into binary values using a threshold\n",
    "binarizer = Binarizer(threshold=0.5)\n",
    "binarized_data = binarizer.fit_transform(dataset)\n",
    "\n",
    "# Printing the results\n",
    "print(\"Rescaled Data:\")\n",
    "print(rescaled_data)\n",
    "print(\"\\nStandardized Data:\")\n",
    "print(standardized_data)\n",
    "print(\"\\nBinarized Data:\")\n",
    "print(binarized_data)"
   ]
  },
  {
   "cell_type": "code",
   "execution_count": null,
   "id": "8af324b5-5633-4143-a435-26f73f22fb5f",
   "metadata": {},
   "outputs": [],
   "source": []
  }
 ],
 "metadata": {
  "kernelspec": {
   "display_name": "Python 3 (ipykernel)",
   "language": "python",
   "name": "python3"
  },
  "language_info": {
   "codemirror_mode": {
    "name": "ipython",
    "version": 3
   },
   "file_extension": ".py",
   "mimetype": "text/x-python",
   "name": "python",
   "nbconvert_exporter": "python",
   "pygments_lexer": "ipython3",
   "version": "3.12.0"
  }
 },
 "nbformat": 4,
 "nbformat_minor": 5
}
