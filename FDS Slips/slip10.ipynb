{
 "cells": [
  {
   "cell_type": "code",
   "execution_count": 2,
   "id": "33e952b8-e0a0-49b3-bddc-b6fa359764a4",
   "metadata": {},
   "outputs": [
    {
     "name": "stdout",
     "output_type": "stream",
     "text": [
      "Column-wise Mean:\n",
      "Index             12500.500000\n",
      "Height(Inches)       67.993114\n",
      "Weight(Pounds)      127.079421\n",
      "dtype: float64\n",
      "\n",
      "Column-wise Median:\n",
      "Index             12500.50000\n",
      "Height(Inches)       67.99570\n",
      "Weight(Pounds)      127.15775\n",
      "dtype: float64\n"
     ]
    }
   ],
   "source": [
    "#slip10_q1\n",
    "#Write a python program to Display column-wise mean, and median for SOCRHeightWeight dataset.\n",
    "import pandas as pd\n",
    "\n",
    "# Load the dataset\n",
    "df = pd.read_csv('../Datasets/SOCR-HeightWeight.csv')\n",
    "\n",
    "# Calculate the mean for each column\n",
    "mean_values = df.mean()\n",
    "\n",
    "# Calculate the median for each column\n",
    "median_values = df.median()\n",
    "\n",
    "# Display the mean and median values\n",
    "print(\"Column-wise Mean:\")\n",
    "print(mean_values)\n",
    "print(\"\\nColumn-wise Median:\")\n",
    "print(median_values)"
   ]
  },
  {
   "cell_type": "code",
   "execution_count": 7,
   "id": "e48ca08d-0b87-4bde-89d8-068528ac5eaa",
   "metadata": {},
   "outputs": [
    {
     "name": "stdout",
     "output_type": "stream",
     "text": [
      "Manhattan Distance is: [[16.5]\n",
      " [16.5]\n",
      " [19.5]\n",
      " [38.5]]\n"
     ]
    }
   ],
   "source": [
    "#slip10_q2\n",
    "#Write a python program to compute sum of Manhattan distance between all pairs of points.\n",
    "import numpy as np\n",
    "from scipy.spatial import distance\n",
    "p1=np.array([[12,10],[14,10],[15,8],[42,16]])\n",
    "p2=np.array([[13,25.5]])\n",
    "dist=distance.cdist(p1,p2,'cityblock')\n",
    "print(\"Manhattan Distance is:\",dist)"
   ]
  },
  {
   "cell_type": "code",
   "execution_count": null,
   "id": "1547cb80-eba8-414f-940a-14d249724210",
   "metadata": {},
   "outputs": [],
   "source": []
  }
 ],
 "metadata": {
  "kernelspec": {
   "display_name": "Python 3 (ipykernel)",
   "language": "python",
   "name": "python3"
  },
  "language_info": {
   "codemirror_mode": {
    "name": "ipython",
    "version": 3
   },
   "file_extension": ".py",
   "mimetype": "text/x-python",
   "name": "python",
   "nbconvert_exporter": "python",
   "pygments_lexer": "ipython3",
   "version": "3.12.0"
  }
 },
 "nbformat": 4,
 "nbformat_minor": 5
}
